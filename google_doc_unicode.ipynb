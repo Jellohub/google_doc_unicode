{
 "cells": [
  {
   "cell_type": "markdown",
   "id": "7c04bb23",
   "metadata": {},
   "source": [
    "# Extract Unicode Character from Google Doc\n",
    "\n",
    "**Author**: <u>Angelo Turri</u>\n",
    "<br>\n",
    "**Date**: <u>08/13/2024</u>\n",
    "<br><br>\n",
    "\n",
    "\n",
    "The functions in this notebook use a Google Doc link to extract a series of Unicode characters and their respective coordinates. Using these coordinates, the Unicode characters are then arranged in the shape of the intended alphabetical character[s]."
   ]
  },
  {
   "cell_type": "code",
   "execution_count": 268,
   "id": "b4f725c4",
   "metadata": {},
   "outputs": [],
   "source": [
    "url = 'https://docs.google.com/document/d/e/2PACX-1vRMx5YQlZNa3ra8dYYxmv-QIQ3YJe8tbI3kqcuC7lQiZm-CSEznKfN_HYNSpoXcZIV3Y_O3YoUB1ecq/pub'"
   ]
  },
  {
   "cell_type": "code",
   "execution_count": 269,
   "id": "06cf144e",
   "metadata": {},
   "outputs": [],
   "source": [
    "import urllib.request  \n",
    "from bs4 import BeautifulSoup"
   ]
  },
  {
   "cell_type": "code",
   "execution_count": 270,
   "id": "71f7d5f1",
   "metadata": {},
   "outputs": [],
   "source": [
    "def get_raw_coords(url):\n",
    "    \n",
    "    \"\"\"\n",
    "    This function takes in a google doc URL and returns\n",
    "    a list of all characters and their associated coordinates.\n",
    "    \"\"\"\n",
    "    \n",
    "    # Retrieves information from the URL provided\n",
    "    html = urllib.request.urlopen(url)\n",
    "    \n",
    "    # Retrieves all HTML code from the URL\n",
    "    htmlParse = BeautifulSoup(html, 'html.parser') \n",
    "    \n",
    "    # All coordinates and symbols are in <p> tags\n",
    "    # This code traverses the DOM and extracts all <p> tags\n",
    "    raw_coords = [para.get_text() for para in htmlParse.find_all(\"p\")]\n",
    "    \n",
    "    # Removes some extraneous text and spaces from the previous list.\n",
    "    raw_coords = raw_coords[5:-1]\n",
    "    \n",
    "    return raw_coords"
   ]
  },
  {
   "cell_type": "code",
   "execution_count": 280,
   "id": "dd4cd241",
   "metadata": {},
   "outputs": [
    {
     "data": {
      "text/plain": [
       "['0',\n",
       " '█',\n",
       " '0',\n",
       " '0',\n",
       " '█',\n",
       " '1',\n",
       " '0',\n",
       " '█',\n",
       " '2',\n",
       " '1',\n",
       " '▀',\n",
       " '1',\n",
       " '1',\n",
       " '▀',\n",
       " '2',\n",
       " '2',\n",
       " '▀',\n",
       " '1',\n",
       " '2',\n",
       " '▀',\n",
       " '2',\n",
       " '3',\n",
       " '▀',\n",
       " '2']"
      ]
     },
     "execution_count": 280,
     "metadata": {},
     "output_type": "execute_result"
    }
   ],
   "source": [
    "raw_coords = get_raw_coords(url)\n",
    "raw_coords"
   ]
  },
  {
   "cell_type": "code",
   "execution_count": 271,
   "id": "c3d16952",
   "metadata": {},
   "outputs": [],
   "source": [
    "def get_coords(raw_coords):\n",
    "    \n",
    "    \"\"\"\n",
    "    This function takes in a list of characters and\n",
    "    associated coordinates and orders them into groups of three:\n",
    "    a character, its x-coordinate, and its y-coordinate.\n",
    "    \"\"\"\n",
    "    \n",
    "    remaining_coords = raw_coords\n",
    "    \n",
    "    # This is where we will put each character and its\n",
    "    # coordinates.\n",
    "    coords = []\n",
    "    \n",
    "    while len(remaining_coords)>0:\n",
    "        \n",
    "        ints = remaining_coords[0:3]\n",
    "        ints = [int(ints[0]), ints[1], int(ints[2])]\n",
    "        \n",
    "        # Appends the character and its coordinates to\n",
    "        # our list.\n",
    "        coords.append(ints)\n",
    "        remaining_coords = remaining_coords[3:]\n",
    "    \n",
    "    return coords"
   ]
  },
  {
   "cell_type": "code",
   "execution_count": 283,
   "id": "034c5a53",
   "metadata": {},
   "outputs": [
    {
     "data": {
      "text/plain": [
       "[[0, '█', 0],\n",
       " [0, '█', 1],\n",
       " [0, '█', 2],\n",
       " [1, '▀', 1],\n",
       " [1, '▀', 2],\n",
       " [2, '▀', 1],\n",
       " [2, '▀', 2],\n",
       " [3, '▀', 2]]"
      ]
     },
     "execution_count": 283,
     "metadata": {},
     "output_type": "execute_result"
    }
   ],
   "source": [
    "coords = get_coords(raw_coords)\n",
    "coords"
   ]
  },
  {
   "cell_type": "code",
   "execution_count": 272,
   "id": "fe259248",
   "metadata": {},
   "outputs": [],
   "source": [
    "def get_symbols(coords):\n",
    "    \n",
    "    \"\"\"\n",
    "    This function takes in a list of coordinates,\n",
    "    which come in groups of three:\n",
    "    \n",
    "    1) x-coordinate\n",
    "    2) symbol\n",
    "    3) y-coordinate\n",
    "    \n",
    "    And returns a list of symbols to print in order.\n",
    "    When these symbols are printed sequentially, you get\n",
    "    the original letter.\n",
    "    \"\"\"\n",
    "\n",
    "    # Gets the list of all y-coordinates occupied.\n",
    "    y_coords = [lst[2] for lst in coords]\n",
    "    y_range = list(range(min(y_coords), max(y_coords)+1))[::-1]\n",
    "\n",
    "    # Gets the list of all x-coordinates occupied.\n",
    "    x_coords = [lst[0] for lst in coords]\n",
    "    x_range = list(range(min(x_coords), max(x_coords)+1))\n",
    "\n",
    "    # Prepares a two-dimensional dictionary for population.\n",
    "    # This dictionary mimics a grid.\n",
    "    # dct[2][1] will give whatever has an x-coordinate of 1\n",
    "    # and a y-coordinate of 2.\n",
    "    dct = {a: {b: ' ' for b in x_range} for a in y_range}\n",
    "\n",
    "    # If a cell on the grid has a character, it will be input\n",
    "    # into the dictionary.\n",
    "    for lst in coords:\n",
    "        dct[lst[2]][lst[0]] = lst[1]\n",
    "        \n",
    "    # Once the dictionary is populated, we don't need the coordinates,\n",
    "    # just the characters.\n",
    "    symbols = [''.join(list(value.values())) for value in list(dct.values())]\n",
    "    \n",
    "    return symbols"
   ]
  },
  {
   "cell_type": "code",
   "execution_count": 284,
   "id": "2f5a5269",
   "metadata": {},
   "outputs": [
    {
     "data": {
      "text/plain": [
       "['█▀▀▀', '█▀▀ ', '█   ']"
      ]
     },
     "execution_count": 284,
     "metadata": {},
     "output_type": "execute_result"
    }
   ],
   "source": [
    "symbols = get_symbols(coords)\n",
    "symbols"
   ]
  },
  {
   "cell_type": "code",
   "execution_count": 285,
   "id": "d594adf0",
   "metadata": {},
   "outputs": [
    {
     "name": "stdout",
     "output_type": "stream",
     "text": [
      "█▀▀▀\n",
      "█▀▀ \n",
      "█   \n"
     ]
    }
   ],
   "source": [
    "for symbol in symbols:\n",
    "    print(symbol)"
   ]
  },
  {
   "cell_type": "code",
   "execution_count": 273,
   "id": "2ea36620",
   "metadata": {},
   "outputs": [],
   "source": [
    "def unicode_from_grid(url):\n",
    "    \"\"\"\n",
    "    This function takes a google doc URL and prints\n",
    "    whatever unicode characters are on that URL with a\n",
    "    series of helper functions.\n",
    "    \"\"\"\n",
    "    \n",
    "    raw_coords = get_raw_coords(url)\n",
    "    coords = get_coords(raw_coords)\n",
    "    symbols = get_symbols(coords)\n",
    "    \n",
    "    for symbol in symbols:\n",
    "        print(symbol)"
   ]
  },
  {
   "cell_type": "code",
   "execution_count": 274,
   "id": "94d17114",
   "metadata": {},
   "outputs": [
    {
     "name": "stdout",
     "output_type": "stream",
     "text": [
      "█▀▀▀\n",
      "█▀▀ \n",
      "█   \n"
     ]
    }
   ],
   "source": [
    "unicode_from_grid(url)"
   ]
  }
 ],
 "metadata": {
  "kernelspec": {
   "display_name": "Python (learn-env)",
   "language": "python",
   "name": "learn-env"
  },
  "language_info": {
   "codemirror_mode": {
    "name": "ipython",
    "version": 3
   },
   "file_extension": ".py",
   "mimetype": "text/x-python",
   "name": "python",
   "nbconvert_exporter": "python",
   "pygments_lexer": "ipython3",
   "version": "3.11.6"
  }
 },
 "nbformat": 4,
 "nbformat_minor": 5
}
